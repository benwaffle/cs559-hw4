{
 "cells": [
  {
   "cell_type": "code",
   "execution_count": 237,
   "metadata": {},
   "outputs": [],
   "source": [
    "import numpy as np\n",
    "from pandas import read_csv\n",
    "import operator\n",
    "\n",
    "header = ['pregnancies', 'glucose', 'blood pressure', 'skin thickness', 'insulin', 'bmi', 'pedigree', 'age']\n",
    "data = np.array(read_csv('pima-indians-diabetes.data', header=None))\n",
    "labels = data[:,8]\n",
    "labels[labels == 0] = -1\n",
    "features = data[:,:8]\n",
    "m = len(data)"
   ]
  },
  {
   "cell_type": "code",
   "execution_count": null,
   "metadata": {
    "scrolled": true
   },
   "outputs": [
    {
     "name": "stdout",
     "output_type": "stream",
     "text": [
      "\n",
      "Round 0\n",
      "- accuracy = 75.00%\n",
      "- \\alpha_0 = 0.5493\n",
      "- classify negative if glucose < 144.0\n",
      "\n",
      "Round 1\n",
      "- accuracy = 75.00%\n",
      "- \\alpha_1 = 0.2759\n",
      "- classify negative if age < 29.0\n",
      "\n",
      "Round 2\n"
     ]
    }
   ],
   "source": [
    "weights = np.ones(m) / m\n",
    "classifiers = []\n",
    "\n",
    "def accuracy():\n",
    "    correct = 0\n",
    "    for answer, sample in zip(labels, features):\n",
    "        vote = 0\n",
    "        for c in classifiers:\n",
    "            if c[2]:\n",
    "                vote += (-1 if sample[c[0]] < c[1] else 1) * c[3]\n",
    "            else:\n",
    "                vote += (-1 if sample[c[0]] >= c[1] else 1) * c[3]\n",
    "        pred = np.sign(vote)\n",
    "        if pred == answer:\n",
    "            correct += 1\n",
    "    print('- accuracy = %.2f%%' % ((correct/m)*100))\n",
    "    \n",
    "for i in range(3):\n",
    "    print('\\nRound', i)\n",
    "    scores = []\n",
    "    for f in range(features.shape[1]):\n",
    "        for t in np.unique(features[:,f]):\n",
    "            pred = [-1 if x < t else 1 for x in features[:,f]]\n",
    "            err = sum([int(p != a) for (p, a) in zip(pred, labels)] * weights)\n",
    "            scores.append((f, t, True, err))\n",
    "            \n",
    "            predR = [-1 if x >= t else 1 for x in features[:,f]]\n",
    "            errR = sum([int(p != a) for (p, a) in zip(predR, labels)] * weights)\n",
    "            scores.append((f, t, False, errR))\n",
    "    f, t, lessthan, err = min(scores, key=operator.itemgetter(3))\n",
    "    alpha = 0.5 * np.log((1 - err) / err)\n",
    "    classifiers.append((f, t, lessthan, alpha))\n",
    "    accuracy()\n",
    "    print('- \\\\alpha_%d = %.4f' % (i, alpha))\n",
    "    print('- classify negative if', header[f], '<' if lessthan else '>=', t)\n",
    "    weights *= np.exp(-labels * alpha * [-1 if x < t else 1 for x in features[:,f]])\n",
    "    weights /= np.sum(weights)"
   ]
  }
 ],
 "metadata": {
  "kernelspec": {
   "display_name": "Python 3",
   "language": "python",
   "name": "python3"
  },
  "language_info": {
   "codemirror_mode": {
    "name": "ipython",
    "version": 3
   },
   "file_extension": ".py",
   "mimetype": "text/x-python",
   "name": "python",
   "nbconvert_exporter": "python",
   "pygments_lexer": "ipython3",
   "version": "3.6.5"
  }
 },
 "nbformat": 4,
 "nbformat_minor": 2
}
