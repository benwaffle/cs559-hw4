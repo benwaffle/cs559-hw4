{
 "cells": [
  {
   "cell_type": "code",
   "execution_count": 184,
   "metadata": {},
   "outputs": [],
   "source": [
    "import numpy as np\n",
    "from pandas import read_csv\n",
    "import operator\n",
    "\n",
    "header = ['pregnancies', 'glucose', 'blood pressure', 'skin thickness', 'insulin', 'bmi', 'pedigree', 'age']\n",
    "data = np.array(read_csv('pima-indians-diabetes.data', header=None))\n",
    "labels = data[:,8]\n",
    "labels[labels == 0] = -1\n",
    "features = data[:,:8]\n",
    "m = len(data)"
   ]
  },
  {
   "cell_type": "code",
   "execution_count": 222,
   "metadata": {},
   "outputs": [
    {
     "name": "stdout",
     "output_type": "stream",
     "text": [
      "accuracy 75.00%\n",
      "alpha 0.5493\n",
      "classify positive if glucose > 144.0\n",
      "accuracy 75.00%\n",
      "alpha 0.2759\n",
      "classify positive if age > 29.0\n",
      "accuracy 75.00%\n",
      "alpha 0.2544\n",
      "classify positive if bmi > 30.0\n",
      "accuracy 76.04%\n",
      "alpha 0.2338\n",
      "classify positive if bmi > 42.3\n",
      "accuracy 76.04%\n",
      "alpha 0.2036\n",
      "classify positive if glucose > 107.0\n",
      "accuracy 77.47%\n",
      "alpha 0.1769\n",
      "classify positive if pedigree > 0.502\n"
     ]
    }
   ],
   "source": [
    "weights = np.ones(m) / m\n",
    "classifiers = []\n",
    "\n",
    "def accuracy():\n",
    "    correct = 0\n",
    "    for answer, sample in zip(labels, features):\n",
    "        vote = 0\n",
    "        for c in classifiers:\n",
    "            vote += (-1 if sample[c[0]] < c[1] else 1) * c[2]\n",
    "        pred = np.sign(vote)\n",
    "        if pred == answer:\n",
    "            correct += 1\n",
    "    print('accuracy %.2f%%' % ((correct/m)*100))\n",
    "    \n",
    "for i in range(6):\n",
    "    scores = []\n",
    "    for f in range(features.shape[1]):\n",
    "        for t in np.unique(features[:,f]):\n",
    "            pred = [-1 if x < t else 1 for x in features[:,f]]\n",
    "            err = sum([int(p != a) for (p, a) in zip(pred, labels)] * weights)\n",
    "            scores.append((f, t, err))\n",
    "    f, t, err = min(scores, key=operator.itemgetter(2))\n",
    "    alpha = 0.5 * np.log((1 - err) / err)\n",
    "    classifiers.append((f, t, alpha))\n",
    "    accuracy()\n",
    "    print('alpha %.4f' % alpha)\n",
    "    print('classify positive if', header[f], '>', t)\n",
    "    weights *= np.exp(-labels * alpha * [-1 if x < t else 1 for x in features[:,f]])\n",
    "    weights /= np.sum(weights)"
   ]
  },
  {
   "cell_type": "code",
   "execution_count": 221,
   "metadata": {},
   "outputs": [
    {
     "data": {
      "text/plain": [
       "-1"
      ]
     },
     "execution_count": 221,
     "metadata": {},
     "output_type": "execute_result"
    }
   ],
   "source": [
    "np.sign(-3)"
   ]
  },
  {
   "cell_type": "code",
   "execution_count": null,
   "metadata": {},
   "outputs": [],
   "source": []
  }
 ],
 "metadata": {
  "kernelspec": {
   "display_name": "Python 3",
   "language": "python",
   "name": "python3"
  },
  "language_info": {
   "codemirror_mode": {
    "name": "ipython",
    "version": 3
   },
   "file_extension": ".py",
   "mimetype": "text/x-python",
   "name": "python",
   "nbconvert_exporter": "python",
   "pygments_lexer": "ipython3",
   "version": "3.6.5"
  }
 },
 "nbformat": 4,
 "nbformat_minor": 2
}
